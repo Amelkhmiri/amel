{
  "nbformat": 4,
  "nbformat_minor": 0,
  "metadata": {
    "colab": {
      "name": "Copie de Untitled1.ipynb",
      "provenance": [],
      "collapsed_sections": [],
      "authorship_tag": "ABX9TyMsmKpghfpIAp5fh9T5Yatv",
      "include_colab_link": true
    },
    "kernelspec": {
      "display_name": "Python 3",
      "name": "python3"
    },
    "language_info": {
      "name": "python"
    }
  },
  "cells": [
    {
      "cell_type": "markdown",
      "metadata": {
        "id": "view-in-github",
        "colab_type": "text"
      },
      "source": [
        "<a href=\"https://colab.research.google.com/github/Amelkhmiri/amel/blob/main/Copie_de_Untitled1.ipynb\" target=\"_parent\"><img src=\"https://colab.research.google.com/assets/colab-badge.svg\" alt=\"Open In Colab\"/></a>"
      ]
    },
    {
      "cell_type": "code",
      "metadata": {
        "colab": {
          "base_uri": "https://localhost:8080/"
        },
        "id": "gDSUUS6zRD_L",
        "outputId": "b87b7c30-8e49-4416-e3a1-06c8b9aaec67"
      },
      "source": [
        "print('welcome to word of programming')"
      ],
      "execution_count": null,
      "outputs": [
        {
          "output_type": "stream",
          "text": [
            "welcome to word of programming\n"
          ],
          "name": "stdout"
        }
      ]
    },
    {
      "cell_type": "code",
      "metadata": {
        "colab": {
          "base_uri": "https://localhost:8080/"
        },
        "id": "3wCSb_PVSGJ2",
        "outputId": "6328b423-c635-4090-e49a-5a0dfdf572f5"
      },
      "source": [
        "print(\"hello \\nword\\n i am amel\")"
      ],
      "execution_count": null,
      "outputs": [
        {
          "output_type": "stream",
          "text": [
            "hello \n",
            "word\n",
            " i am amel\n"
          ],
          "name": "stdout"
        }
      ]
    },
    {
      "cell_type": "code",
      "metadata": {
        "colab": {
          "base_uri": "https://localhost:8080/"
        },
        "id": "7jUz4YDOTajU",
        "outputId": "9fb45649-e132-4369-9c06-6789a653e753"
      },
      "source": [
        "print (\"hllo,1,Iam amel,5*3\")"
      ],
      "execution_count": null,
      "outputs": [
        {
          "output_type": "stream",
          "text": [
            "hllo,1,Iam amel,5*3\n"
          ],
          "name": "stdout"
        }
      ]
    },
    {
      "cell_type": "code",
      "metadata": {
        "id": "UmbL3v4dH9kR"
      },
      "source": [
        "input"
      ],
      "execution_count": null,
      "outputs": []
    },
    {
      "cell_type": "code",
      "metadata": {
        "colab": {
          "base_uri": "https://localhost:8080/"
        },
        "id": "LJsIull-U7hw",
        "outputId": "019fd482-6bed-4f6c-84c1-e82ea8ef2d61"
      },
      "source": [
        "print(\"let\\'s go\")"
      ],
      "execution_count": null,
      "outputs": [
        {
          "output_type": "stream",
          "text": [
            "let's go\n"
          ],
          "name": "stdout"
        }
      ]
    },
    {
      "cell_type": "code",
      "metadata": {
        "colab": {
          "base_uri": "https://localhost:8080/"
        },
        "id": "JgIo-mrlFp-k",
        "outputId": "5ae95dbd-6c24-4b9a-806f-907989ee4ab0"
      },
      "source": [
        " str=input()\n",
        " print(str)\n",
        " print(type(str))\n",
        " \n",
        "str= input()\n",
        "print(str, type(str))"
      ],
      "execution_count": null,
      "outputs": [
        {
          "output_type": "stream",
          "text": [
            "amel khmiri\n",
            "amel khmiri\n",
            "<class 'str'>\n",
            "6\n",
            "6 <class 'str'>\n"
          ],
          "name": "stdout"
        }
      ]
    },
    {
      "cell_type": "code",
      "metadata": {
        "colab": {
          "base_uri": "https://localhost:8080/"
        },
        "id": "nVF_0i_BOw0b",
        "outputId": "a01a51ec-2aac-4acb-d053-41b49d42ae3d"
      },
      "source": [
        " str = input(\"inter your name: \")\n",
        "print('hello'+ str)\n",
        " \n",
        " print(\"hello \" + input (\"inter your name \"))"
      ],
      "execution_count": null,
      "outputs": [
        {
          "output_type": "stream",
          "text": [
            "inter your name: amel khemiri\n",
            "helloamel khemiri\n",
            "inter your name loujain ajaoui\n",
            "hello loujain ajaoui\n"
          ],
          "name": "stdout"
        }
      ]
    },
    {
      "cell_type": "code",
      "metadata": {
        "colab": {
          "base_uri": "https://localhost:8080/"
        },
        "id": "ZA5aAyDyc2Ds",
        "outputId": "4b1b6d97-6da8-4315-edc7-9e06adea5df9"
      },
      "source": [
        " a ,b , c =input().split()\n",
        "print(a,b,c)"
      ],
      "execution_count": null,
      "outputs": [
        {
          "output_type": "stream",
          "text": [
            "a b c \n",
            "a b c\n"
          ],
          "name": "stdout"
        }
      ]
    },
    {
      "cell_type": "code",
      "metadata": {
        "id": "Y7ncBYPmEIC4"
      },
      "source": [
        ""
      ],
      "execution_count": null,
      "outputs": []
    },
    {
      "cell_type": "code",
      "metadata": {
        "colab": {
          "base_uri": "https://localhost:8080/"
        },
        "id": "q1ed2cOvg63H",
        "outputId": "28226c0b-24fe-494b-f4ea-5124d359f69a"
      },
      "source": [
        "a, b, c = input().split()\n",
        "print(a,b,c)\n",
        "print(type(a))"
      ],
      "execution_count": null,
      "outputs": [
        {
          "output_type": "stream",
          "text": [
            "a b c\n",
            "a b c\n",
            "<class 'str'>\n"
          ],
          "name": "stdout"
        }
      ]
    },
    {
      "cell_type": "code",
      "metadata": {
        "colab": {
          "base_uri": "https://localhost:8080/"
        },
        "id": "qSXSrsqfBNEJ",
        "outputId": "9697a074-62b5-431e-d0d1-bcc16ae23e54"
      },
      "source": [
        "fam = [1.73,1.68,1.17,1.98]\n",
        "fam"
      ],
      "execution_count": null,
      "outputs": [
        {
          "output_type": "execute_result",
          "data": {
            "text/plain": [
              "[1.73, 1.68, 1.17, 1.98]"
            ]
          },
          "metadata": {},
          "execution_count": 1
        }
      ]
    },
    {
      "cell_type": "code",
      "metadata": {
        "colab": {
          "base_uri": "https://localhost:8080/"
        },
        "id": "2S4NIqHpB1cE",
        "outputId": "3969f991-0019-4c66-9228-c72de697853c"
      },
      "source": [
        "help(round)"
      ],
      "execution_count": null,
      "outputs": [
        {
          "output_type": "stream",
          "text": [
            "Help on built-in function round in module builtins:\n",
            "\n",
            "round(number, ndigits=None)\n",
            "    Round a number to a given precision in decimal digits.\n",
            "    \n",
            "    The return value is an integer if ndigits is omitted or None.  Otherwise\n",
            "    the return value has the same type as the number.  ndigits may be negative.\n",
            "\n"
          ],
          "name": "stdout"
        }
      ]
    },
    {
      "cell_type": "code",
      "metadata": {
        "colab": {
          "base_uri": "https://localhost:8080/"
        },
        "id": "rHnKjhdBDehi",
        "outputId": "12955a0d-ad2f-4393-a751-e0edf16ad96e"
      },
      "source": [
        "help(max)"
      ],
      "execution_count": null,
      "outputs": [
        {
          "output_type": "stream",
          "text": [
            "Help on built-in function max in module builtins:\n",
            "\n",
            "max(...)\n",
            "    max(iterable, *[, default=obj, key=func]) -> value\n",
            "    max(arg1, arg2, *args, *[, key=func]) -> value\n",
            "    \n",
            "    With a single iterable argument, return its biggest item. The\n",
            "    default keyword-only argument specifies an object to return if\n",
            "    the provided iterable is empty.\n",
            "    With two or more arguments, return the largest argument.\n",
            "\n"
          ],
          "name": "stdout"
        }
      ]
    },
    {
      "cell_type": "markdown",
      "metadata": {
        "id": "z0nO5_XUwd-Z"
      },
      "source": [
        ""
      ]
    },
    {
      "cell_type": "markdown",
      "metadata": {
        "id": "SsJwMdfMwlaR"
      },
      "source": [
        "methods"
      ]
    },
    {
      "cell_type": "code",
      "metadata": {
        "colab": {
          "base_uri": "https://localhost:8080/"
        },
        "id": "N-927hZQwpMS",
        "outputId": "cff5828d-0ff8-47a8-cd86-4de1ade6ba14"
      },
      "source": [
        "sister = \"liz\"\n",
        "height = 1.73\n",
        "fam = [\"liz\",1.73,\"emma\",1.68,\"mom\",1.71,\"dad\"]\n",
        "fam"
      ],
      "execution_count": null,
      "outputs": [
        {
          "output_type": "execute_result",
          "data": {
            "text/plain": [
              "['liz', 1.73, 'emma', 1.68, 'mom', 1.71, 'dad']"
            ]
          },
          "metadata": {},
          "execution_count": 15
        }
      ]
    },
    {
      "cell_type": "code",
      "metadata": {
        "colab": {
          "base_uri": "https://localhost:8080/"
        },
        "id": "u7eLc3f_yWPa",
        "outputId": "19d289fe-142a-4435-f5cc-e588d2fcb9eb"
      },
      "source": [
        "fam.index('mom')  "
      ],
      "execution_count": null,
      "outputs": [
        {
          "output_type": "execute_result",
          "data": {
            "text/plain": [
              "4"
            ]
          },
          "metadata": {},
          "execution_count": 16
        }
      ]
    },
    {
      "cell_type": "code",
      "metadata": {
        "id": "cs0xd2WS8nbS"
      },
      "source": [
        ""
      ],
      "execution_count": null,
      "outputs": []
    },
    {
      "cell_type": "code",
      "metadata": {
        "colab": {
          "base_uri": "https://localhost:8080/"
        },
        "id": "H19m8ClyzmL2",
        "outputId": "4863cd98-9c52-4428-9a8a-a1ee2ba293a3"
      },
      "source": [
        "fam.count(1.73)"
      ],
      "execution_count": null,
      "outputs": [
        {
          "output_type": "execute_result",
          "data": {
            "text/plain": [
              "1"
            ]
          },
          "metadata": {},
          "execution_count": 14
        }
      ]
    },
    {
      "cell_type": "code",
      "metadata": {
        "colab": {
          "base_uri": "https://localhost:8080/",
          "height": 35
        },
        "id": "dsUX2oNr87-a",
        "outputId": "1225e9cd-556d-4cfc-cbb7-feb0f451d423"
      },
      "source": [
        "sister.capitalize()\n",
        "\"liz\""
      ],
      "execution_count": null,
      "outputs": [
        {
          "output_type": "execute_result",
          "data": {
            "application/vnd.google.colaboratory.intrinsic+json": {
              "type": "string"
            },
            "text/plain": [
              "'liz'"
            ]
          },
          "metadata": {},
          "execution_count": 20
        }
      ]
    },
    {
      "cell_type": "code",
      "metadata": {
        "colab": {
          "base_uri": "https://localhost:8080/",
          "height": 35
        },
        "id": "RhUulNee93ya",
        "outputId": "fc1fe4d9-dae4-4419-db8a-c426dd1f4212"
      },
      "source": [
        "sister.replace(\"z\",\"sa\")\n"
      ],
      "execution_count": null,
      "outputs": [
        {
          "output_type": "execute_result",
          "data": {
            "application/vnd.google.colaboratory.intrinsic+json": {
              "type": "string"
            },
            "text/plain": [
              "'lisa'"
            ]
          },
          "metadata": {},
          "execution_count": 22
        }
      ]
    },
    {
      "cell_type": "code",
      "metadata": {
        "colab": {
          "base_uri": "https://localhost:8080/",
          "height": 163
        },
        "id": "Y9y9271h-QGn",
        "outputId": "7d9e7240-da0e-4eb0-c73c-715995344213"
      },
      "source": [
        "fam.replace (\"mom\",\"momy\")"
      ],
      "execution_count": null,
      "outputs": [
        {
          "output_type": "error",
          "ename": "NameError",
          "evalue": "ignored",
          "traceback": [
            "\u001b[0;31m---------------------------------------------------------------------------\u001b[0m",
            "\u001b[0;31mNameError\u001b[0m                                 Traceback (most recent call last)",
            "\u001b[0;32m<ipython-input-2-6f23c11b6a45>\u001b[0m in \u001b[0;36m<module>\u001b[0;34m()\u001b[0m\n\u001b[0;32m----> 1\u001b[0;31m \u001b[0mfam\u001b[0m\u001b[0;34m.\u001b[0m\u001b[0mreplace\u001b[0m \u001b[0;34m(\u001b[0m\u001b[0;34m\"mom\"\u001b[0m\u001b[0;34m,\u001b[0m\u001b[0;34m\"momy\"\u001b[0m\u001b[0;34m)\u001b[0m\u001b[0;34m\u001b[0m\u001b[0;34m\u001b[0m\u001b[0m\n\u001b[0m",
            "\u001b[0;31mNameError\u001b[0m: name 'fam' is not defined"
          ]
        }
      ]
    },
    {
      "cell_type": "code",
      "metadata": {
        "colab": {
          "base_uri": "https://localhost:8080/"
        },
        "id": "CcF8lt3-_MUo",
        "outputId": "aaf74792-477e-480a-9848-82756ce787a6"
      },
      "source": [
        "fam"
      ],
      "execution_count": null,
      "outputs": [
        {
          "output_type": "execute_result",
          "data": {
            "text/plain": [
              "['liz', 1.73, 'emma', 1.68, 'mom', 1.71, 'dad']"
            ]
          },
          "metadata": {},
          "execution_count": 24
        }
      ]
    },
    {
      "cell_type": "code",
      "metadata": {
        "id": "1Aoa2gYK_aIR"
      },
      "source": [
        "fam.append(\"me\")"
      ],
      "execution_count": null,
      "outputs": []
    },
    {
      "cell_type": "code",
      "metadata": {
        "colab": {
          "base_uri": "https://localhost:8080/"
        },
        "id": "vikXtMZx_W1f",
        "outputId": "282390fe-fffc-43d3-9cd5-1e6c7d94dc02"
      },
      "source": [
        "fam"
      ],
      "execution_count": null,
      "outputs": [
        {
          "output_type": "execute_result",
          "data": {
            "text/plain": [
              "['liz', 1.73, 'emma', 1.68, 'mom', 1.71, 'dad', 'me', 'me']"
            ]
          },
          "metadata": {},
          "execution_count": 28
        }
      ]
    },
    {
      "cell_type": "code",
      "metadata": {
        "id": "XLw-7fGGAhFv"
      },
      "source": [
        "fam.append(1.79)"
      ],
      "execution_count": null,
      "outputs": []
    },
    {
      "cell_type": "code",
      "metadata": {
        "colab": {
          "base_uri": "https://localhost:8080/"
        },
        "id": "U02NyZqpA9Tj",
        "outputId": "a8de1bcc-f311-4df1-a6a4-a76f097c0cdc"
      },
      "source": [
        "type(fam)"
      ],
      "execution_count": null,
      "outputs": [
        {
          "output_type": "execute_result",
          "data": {
            "text/plain": [
              "list"
            ]
          },
          "metadata": {},
          "execution_count": 35
        }
      ]
    },
    {
      "cell_type": "code",
      "metadata": {
        "colab": {
          "base_uri": "https://localhost:8080/"
        },
        "id": "PgkvKpDeBAuK",
        "outputId": "b1b9e729-d2f9-4ad0-ed49-fe46f79c52b4"
      },
      "source": [
        "fam.index(\"dad\")"
      ],
      "execution_count": null,
      "outputs": [
        {
          "output_type": "execute_result",
          "data": {
            "text/plain": [
              "6"
            ]
          },
          "metadata": {},
          "execution_count": 36
        }
      ]
    },
    {
      "cell_type": "markdown",
      "metadata": {
        "id": "1bQYLWtPBM1G"
      },
      "source": [
        "Function"
      ]
    },
    {
      "cell_type": "code",
      "metadata": {
        "id": "Sa0t_32sBH8d"
      },
      "source": [
        "def m(value):\n",
        "   new_value = value**2\n",
        "   print(new_value)\n",
        "  \n"
      ],
      "execution_count": null,
      "outputs": []
    },
    {
      "cell_type": "markdown",
      "metadata": {
        "id": "V-DXdOP9KqQK"
      },
      "source": [
        "While"
      ]
    },
    {
      "cell_type": "code",
      "metadata": {
        "id": "Gkg6PHANEz0C",
        "colab": {
          "base_uri": "https://localhost:8080/"
        },
        "outputId": "7ca28677-3193-4560-c45c-c6f235be64dd"
      },
      "source": [
        "error = 50\n",
        "while error > 1 :\n",
        " error = error /4\n",
        " print(error)"
      ],
      "execution_count": null,
      "outputs": [
        {
          "output_type": "stream",
          "text": [
            "12.5\n",
            "3.125\n",
            "0.78125\n"
          ],
          "name": "stdout"
        }
      ]
    },
    {
      "cell_type": "code",
      "metadata": {
        "colab": {
          "base_uri": "https://localhost:8080/"
        },
        "id": "jUj3YhAEMT4x",
        "outputId": "0520b404-d096-47a3-b968-5e9cb6a794d8"
      },
      "source": [
        "error = 50\n",
        "while error > 1 :\n",
        "  error = error /4\n",
        "  print(error)"
      ],
      "execution_count": null,
      "outputs": [
        {
          "output_type": "stream",
          "text": [
            "12.5\n",
            "3.125\n",
            "0.78125\n"
          ],
          "name": "stdout"
        }
      ]
    },
    {
      "cell_type": "markdown",
      "metadata": {
        "id": "IXl_YZ7TMwgD"
      },
      "source": [
        ""
      ]
    },
    {
      "cell_type": "code",
      "metadata": {
        "colab": {
          "base_uri": "https://localhost:8080/"
        },
        "id": "Jm7LQOWcMvc4",
        "outputId": "33cbfd7b-b086-4045-a186-952b235dc3ab"
      },
      "source": [
        "fam = [1.73,1.68,1.71,1.89]\n",
        "fam"
      ],
      "execution_count": null,
      "outputs": [
        {
          "output_type": "execute_result",
          "data": {
            "text/plain": [
              "[1.73, 1.68, 1.71, 1.89]"
            ]
          },
          "metadata": {},
          "execution_count": 2
        }
      ]
    },
    {
      "cell_type": "code",
      "metadata": {
        "colab": {
          "base_uri": "https://localhost:8080/"
        },
        "id": "SEmoAROPU2Cs",
        "outputId": "fa1009d5-9eb3-43da-f906-532564445c96"
      },
      "source": [
        "print(fam[0])\n",
        "print (fam[1])\n",
        "print(fam[2])\n",
        "print(fam[3])"
      ],
      "execution_count": null,
      "outputs": [
        {
          "output_type": "stream",
          "text": [
            "1.73\n",
            "1.68\n",
            "1.71\n",
            "1.89\n"
          ],
          "name": "stdout"
        }
      ]
    },
    {
      "cell_type": "code",
      "metadata": {
        "colab": {
          "base_uri": "https://localhost:8080/"
        },
        "id": "6qqxGaklV3Ul",
        "outputId": "5cf70482-235b-46f5-ab8e-bcacdfe87709"
      },
      "source": [
        "for height in fam:\n",
        "  print(height)"
      ],
      "execution_count": null,
      "outputs": [
        {
          "output_type": "stream",
          "text": [
            "1.73\n",
            "1.68\n",
            "1.71\n",
            "1.89\n"
          ],
          "name": "stdout"
        }
      ]
    },
    {
      "cell_type": "code",
      "metadata": {
        "colab": {
          "base_uri": "https://localhost:8080/"
        },
        "id": "59A9KkBFWL05",
        "outputId": "3c6c8ebc-3bf5-46ed-8849-1cc3defa9707"
      },
      "source": [
        "for index, height in enumerate(fam):\n",
        "  print(\"index\",index,\":\",height)"
      ],
      "execution_count": null,
      "outputs": [
        {
          "output_type": "stream",
          "text": [
            "index 0 : 1.73\n",
            "index 1 : 1.68\n",
            "index 2 : 1.71\n",
            "index 3 : 1.89\n"
          ],
          "name": "stdout"
        }
      ]
    },
    {
      "cell_type": "code",
      "metadata": {
        "colab": {
          "base_uri": "https://localhost:8080/"
        },
        "id": "v2pPPxfuXZbY",
        "outputId": "3c0b2b39-c207-4681-a0b3-b60ec0bf37d3"
      },
      "source": [
        "for c in \"family\" :\n",
        "  print(c.capitalize()) \n"
      ],
      "execution_count": null,
      "outputs": [
        {
          "output_type": "stream",
          "text": [
            "F\n",
            "A\n",
            "M\n",
            "I\n",
            "L\n",
            "Y\n"
          ],
          "name": "stdout"
        }
      ]
    },
    {
      "cell_type": "code",
      "metadata": {
        "colab": {
          "base_uri": "https://localhost:8080/"
        },
        "id": "QWXS5_PuYUBn",
        "outputId": "054dd895-8498-4f80-e66d-50193ef30ead"
      },
      "source": [
        "for num in range(10):\n",
        "    print(num)"
      ],
      "execution_count": null,
      "outputs": [
        {
          "output_type": "stream",
          "text": [
            "0\n",
            "1\n",
            "2\n",
            "3\n",
            "4\n",
            "5\n",
            "6\n",
            "7\n",
            "8\n",
            "9\n"
          ],
          "name": "stdout"
        }
      ]
    },
    {
      "cell_type": "code",
      "metadata": {
        "colab": {
          "base_uri": "https://localhost:8080/"
        },
        "id": "OjlLTYTOZFKA",
        "outputId": "97caa7c0-36bc-4117-b921-219d446b8d86"
      },
      "source": [
        "for num in range(1,10):\n",
        "   print(num)"
      ],
      "execution_count": null,
      "outputs": [
        {
          "output_type": "stream",
          "text": [
            "1\n",
            "2\n",
            "3\n",
            "4\n",
            "5\n",
            "6\n",
            "7\n",
            "8\n",
            "9\n"
          ],
          "name": "stdout"
        }
      ]
    },
    {
      "cell_type": "markdown",
      "metadata": {
        "id": "vA3Ux8XbEMWF"
      },
      "source": [
        "strings\n"
      ]
    },
    {
      "cell_type": "code",
      "metadata": {
        "id": "S-f2m6o3EcRG",
        "colab": {
          "base_uri": "https://localhost:8080/",
          "height": 129
        },
        "outputId": "cf16d52e-591f-4165-8364-480d0017a234"
      },
      "source": [
        "my_string = \"this is a string\"\n",
        "my-string = \"thhis is also a string\"\n",
        "my_string = 'and this ? it/'s the wrong string'"
      ],
      "execution_count": null,
      "outputs": [
        {
          "output_type": "error",
          "ename": "SyntaxError",
          "evalue": "ignored",
          "traceback": [
            "\u001b[0;36m  File \u001b[0;32m\"<ipython-input-4-d6aaa1640f45>\"\u001b[0;36m, line \u001b[0;32m3\u001b[0m\n\u001b[0;31m    my_string = 'and this ? it/'s the wrong string'\u001b[0m\n\u001b[0m                                ^\u001b[0m\n\u001b[0;31mSyntaxError\u001b[0m\u001b[0;31m:\u001b[0m invalid syntax\n"
          ]
        }
      ]
    },
    {
      "cell_type": "code",
      "metadata": {
        "id": "NWEDkpv4KqJ3"
      },
      "source": [
        "\n",
        "my_string =\"and this? it's the wrong string\""
      ],
      "execution_count": null,
      "outputs": []
    },
    {
      "cell_type": "markdown",
      "metadata": {
        "id": "nCbXezAfLUSM"
      },
      "source": [
        "slicing"
      ]
    },
    {
      "cell_type": "code",
      "metadata": {
        "colab": {
          "base_uri": "https://localhost:8080/"
        },
        "id": "ZsPjrs0fLXm_",
        "outputId": "cda5a3e4-0c53-495f-d1a8-f24a02a632ab"
      },
      "source": [
        "my_string = \"awesome day\"\n",
        "print(my_string[0:3])"
      ],
      "execution_count": null,
      "outputs": [
        {
          "output_type": "stream",
          "text": [
            "awe\n"
          ],
          "name": "stdout"
        }
      ]
    },
    {
      "cell_type": "code",
      "metadata": {
        "colab": {
          "base_uri": "https://localhost:8080/"
        },
        "id": "3RfjADkNMhyi",
        "outputId": "d6fe93ee-d758-4e6a-cc66-4d103045e974"
      },
      "source": [
        "print(my_string[:5])\n",
        "print(my_string[5:])\n"
      ],
      "execution_count": null,
      "outputs": [
        {
          "output_type": "stream",
          "text": [
            "aweso\n",
            "me day\n"
          ],
          "name": "stdout"
        }
      ]
    },
    {
      "cell_type": "markdown",
      "metadata": {
        "id": "SICKsEVeNdhU"
      },
      "source": [
        "stride"
      ]
    },
    {
      "cell_type": "code",
      "metadata": {
        "colab": {
          "base_uri": "https://localhost:8080/"
        },
        "id": "mHmKlhoLNcCy",
        "outputId": "fd94f104-cb1d-4695-fe35-8f5564217198"
      },
      "source": [
        "my_string =\"awesome day\"\n",
        "print(my_string[0:6:2])"
      ],
      "execution_count": null,
      "outputs": [
        {
          "output_type": "stream",
          "text": [
            "aeo\n"
          ],
          "name": "stdout"
        }
      ]
    },
    {
      "cell_type": "code",
      "metadata": {
        "colab": {
          "base_uri": "https://localhost:8080/"
        },
        "id": "Pc3P18GnOBD1",
        "outputId": "7ca2ddfd-7b05-4c90-c9d7-850890058866"
      },
      "source": [
        "print(my_string[::-1])"
      ],
      "execution_count": null,
      "outputs": [
        {
          "output_type": "stream",
          "text": [
            "yad emosewa\n"
          ],
          "name": "stdout"
        }
      ]
    },
    {
      "cell_type": "code",
      "metadata": {
        "colab": {
          "base_uri": "https://localhost:8080/"
        },
        "id": "lMF5qmxhOR1N",
        "outputId": "49a3a8e2-f6c2-44b8-ef91-6f6a31d28ac4"
      },
      "source": [
        "my_string = \"this is a nice string\"\n",
        "print(my_string[0:3])"
      ],
      "execution_count": null,
      "outputs": [
        {
          "output_type": "stream",
          "text": [
            "this is a nice string\n"
          ],
          "name": "stdout"
        }
      ]
    },
    {
      "cell_type": "code",
      "metadata": {
        "colab": {
          "base_uri": "https://localhost:8080/"
        },
        "id": "FeCd1rMhUQK7",
        "outputId": "d0e18dbe-49b2-42c1-b37d-8bd97222fa3b"
      },
      "source": [
        "print(my_string.upper())\n"
      ],
      "execution_count": null,
      "outputs": [
        {
          "output_type": "stream",
          "text": [
            "THIS IS A NICE STRING\n"
          ],
          "name": "stdout"
        }
      ]
    },
    {
      "cell_type": "code",
      "metadata": {
        "colab": {
          "base_uri": "https://localhost:8080/"
        },
        "id": "DyxEft-SUj7l",
        "outputId": "ce88d92f-e70b-4fba-bd60-55497d8d082e"
      },
      "source": [
        "print(my_string.capitalize())"
      ],
      "execution_count": null,
      "outputs": [
        {
          "output_type": "stream",
          "text": [
            "This is a nice string\n"
          ],
          "name": "stdout"
        }
      ]
    },
    {
      "cell_type": "markdown",
      "metadata": {
        "id": "DKg6uN4aU121"
      },
      "source": [
        "Splitting"
      ]
    },
    {
      "cell_type": "code",
      "metadata": {
        "colab": {
          "base_uri": "https://localhost:8080/"
        },
        "id": "EWgUGFSpU_6h",
        "outputId": "8cbbac37-6660-4fc2-fd3a-f8c8d3278a32"
      },
      "source": [
        "my_string = \"this.is.string.will.be.split\"\n",
        "my_string.split(sep =\".\",maxsplit=2)"
      ],
      "execution_count": null,
      "outputs": [
        {
          "output_type": "execute_result",
          "data": {
            "text/plain": [
              "['this', 'is', 'string.will.be.split']"
            ]
          },
          "metadata": {},
          "execution_count": 18
        }
      ]
    },
    {
      "cell_type": "code",
      "metadata": {
        "colab": {
          "base_uri": "https://localhost:8080/"
        },
        "id": "KlAwZOlkW1Qe",
        "outputId": "019086fc-54c7-4f13-d0d5-afbbb9dcf29d"
      },
      "source": [
        "my_string = \"this is string will be split\\nine two\"\n",
        "print (my_string)"
      ],
      "execution_count": null,
      "outputs": [
        {
          "output_type": "stream",
          "text": [
            "this is string will be split\n",
            "ine two\n"
          ],
          "name": "stdout"
        }
      ]
    },
    {
      "cell_type": "code",
      "metadata": {
        "colab": {
          "base_uri": "https://localhost:8080/"
        },
        "id": "tu-FrpsjX0Y0",
        "outputId": "b79be762-fe6b-4679-b7d6-c9bd973608b7"
      },
      "source": [
        "my_string.splitlines()"
      ],
      "execution_count": null,
      "outputs": [
        {
          "output_type": "execute_result",
          "data": {
            "text/plain": [
              "['this is string will be split', 'ine two']"
            ]
          },
          "metadata": {},
          "execution_count": 22
        }
      ]
    },
    {
      "cell_type": "markdown",
      "metadata": {
        "id": "8jGEy4a_YH_E"
      },
      "source": [
        "joining"
      ]
    },
    {
      "cell_type": "code",
      "metadata": {
        "colab": {
          "base_uri": "https://localhost:8080/"
        },
        "id": "64GtjNy3YLc5",
        "outputId": "1f27bc01-501d-487d-be5d-c7c95eea7383"
      },
      "source": [
        "my_list = [\"this\", \"will\", \"be\", \"a\", \"string\"]\n",
        "print(\" \".join(my_list)) \n"
      ],
      "execution_count": null,
      "outputs": [
        {
          "output_type": "stream",
          "text": [
            "this will be a string\n"
          ],
          "name": "stdout"
        }
      ]
    },
    {
      "cell_type": "markdown",
      "metadata": {
        "id": "onKY6hfkhfeP"
      },
      "source": [
        "dictionnary"
      ]
    },
    {
      "cell_type": "code",
      "metadata": {
        "id": "-BKRIKaNhjKP"
      },
      "source": [
        "dict = {\n",
        "   \"student\" : \"Mostafa\",\n",
        "    'age' : 3,\n",
        "    'grade' : 'good',\n",
        "    'grade' : 'very good'\n",
        "\n",
        "}\n",
        "age = dict['age']"
      ],
      "execution_count": null,
      "outputs": []
    },
    {
      "cell_type": "code",
      "metadata": {
        "colab": {
          "base_uri": "https://localhost:8080/"
        },
        "id": "eqbV5g2GvFzM",
        "outputId": "236c5a7c-e5f4-4344-b668-8e448e444528"
      },
      "source": [
        "print(age)"
      ],
      "execution_count": null,
      "outputs": [
        {
          "output_type": "stream",
          "text": [
            "32\n"
          ],
          "name": "stdout"
        }
      ]
    },
    {
      "cell_type": "code",
      "metadata": {
        "id": "1EQNR5xov2d7"
      },
      "source": [
        "age = dict.get('age')\n"
      ],
      "execution_count": null,
      "outputs": []
    },
    {
      "cell_type": "code",
      "metadata": {
        "colab": {
          "base_uri": "https://localhost:8080/",
          "height": 163
        },
        "id": "Odo2EtO-yORp",
        "outputId": "c920475c-f72e-4dc6-b999-9ef803dae962"
      },
      "source": [
        "print(age)"
      ],
      "execution_count": null,
      "outputs": [
        {
          "output_type": "error",
          "ename": "NameError",
          "evalue": "ignored",
          "traceback": [
            "\u001b[0;31m---------------------------------------------------------------------------\u001b[0m",
            "\u001b[0;31mNameError\u001b[0m                                 Traceback (most recent call last)",
            "\u001b[0;32m<ipython-input-3-5f7a7c5b2c60>\u001b[0m in \u001b[0;36m<module>\u001b[0;34m()\u001b[0m\n\u001b[0;32m----> 1\u001b[0;31m \u001b[0mprint\u001b[0m\u001b[0;34m(\u001b[0m\u001b[0mage\u001b[0m\u001b[0;34m)\u001b[0m\u001b[0;34m\u001b[0m\u001b[0;34m\u001b[0m\u001b[0m\n\u001b[0m",
            "\u001b[0;31mNameError\u001b[0m: name 'age' is not defined"
          ]
        }
      ]
    },
    {
      "cell_type": "code",
      "metadata": {
        "colab": {
          "base_uri": "https://localhost:8080/"
        },
        "id": "h4kFeb9YjbPQ",
        "outputId": "9170ffef-bbde-4301-8bf6-be4804f3a9e1"
      },
      "source": [
        "print(dict)"
      ],
      "execution_count": null,
      "outputs": [
        {
          "output_type": "stream",
          "name": "stdout",
          "text": [
            "<class 'dict'>\n"
          ]
        }
      ]
    },
    {
      "cell_type": "code",
      "metadata": {
        "colab": {
          "base_uri": "https://localhost:8080/"
        },
        "id": "1qId6N43yYY4",
        "outputId": "eb982db4-e74e-4a8c-a4a8-013811171472"
      },
      "source": [
        "key = dic.keys()\n",
        "print(key)"
      ],
      "execution_count": null,
      "outputs": [
        {
          "output_type": "stream",
          "text": [
            "dict_keys(['student', 'age', 'grade'])\n"
          ],
          "name": "stdout"
        }
      ]
    }
  ]
}